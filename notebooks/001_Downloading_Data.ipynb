{
 "cells": [
  {
   "cell_type": "markdown",
   "metadata": {},
   "source": [
    "## Books that we want to collect the data\n",
    "- Muhammad: His Life Based on the Earliest Sources (Martin Lings)\n",
    "- The Life of The Prophet Muhammad Peace and blessings of Allah be upon him(Leila Azzam & Aisha Gouverneur)\n",
    "- Sirah Nabi Muhammad Sallahu Alaihi Wassalam Pengajaran & Pedoman (Dr. Mustafa as-Syibae) *** not allowed\n",
    "- Sejarah Rasulullah (Al-Hafiz Abdul Ghani bin Abdul Wahid Al-Maqdisy)\n",
    "- Sirah Nabi Muhammad (Syaikh Salim bin led al-Hilali || A-Hafizh Ibnu Katsir)\n",
    "- Sejarah Nabi Muhammad saw (Muhammad Husain Haekal)\n",
    "- A Concise Biography of the Prophet صلى الله عليه وسلم and His Special Traits (Shaykh Haytham ibn Muhammad Sarhān)\n",
    "- Muhammad , The Messenger of God (Dr Abdurrahman al-Sheha)\n",
    "- AS- SĪRAH: BIOGRAPHY OF PROPHET MUHAMMAD (Dr. Shaykh Luqman Jimoh) "
   ]
  },
  {
   "cell_type": "code",
   "execution_count": 2,
   "metadata": {},
   "outputs": [],
   "source": [
    "import requests\n",
    "from pathlib import Path\n",
    "\n",
    "def download_file(url: str, filename: str) -> None:\n",
    "    \"\"\"\n",
    "    Download a file from a URL and save it to a specified location.\n",
    "\n",
    "    Parameters:\n",
    "    url (str): The URL of the file to download.\n",
    "    filename (str): The name to save the file as.\n",
    "\n",
    "    Returns:\n",
    "    None\n",
    "    \"\"\"\n",
    "    # Construct the destination path\n",
    "    destination = Path('../data') / filename\n",
    "    destination.parent.mkdir(parents=True, exist_ok=True)  # Ensure the directory exists\n",
    "\n",
    "    response = requests.get(url)\n",
    "    response.raise_for_status()  # Raise an exception if the request was unsuccessful\n",
    "\n",
    "    with open(destination, 'wb') as f:\n",
    "        f.write(response.content)\n",
    "\n",
    "    print(f\"File downloaded successfully to {destination}\")"
   ]
  },
  {
   "cell_type": "code",
   "execution_count": 3,
   "metadata": {},
   "outputs": [
    {
     "name": "stdout",
     "output_type": "stream",
     "text": [
      "File downloaded successfully to ..\\data\\Sirah_Nabi_Hafizh_IbnuKathir.pdf\n"
     ]
    }
   ],
   "source": [
    "sirahNabi_AlHafizhIbnuKathir_url = \"http://103.44.149.34/elib/assets/buku/Sirah_nabi_muhammad.pdf\"\n",
    "download_file(sirahNabi_AlHafizhIbnuKathir_url, 'Sirah_Nabi_Hafizh_IbnuKathir.pdf')\n",
    " "
   ]
  },
  {
   "cell_type": "code",
   "execution_count": 8,
   "metadata": {},
   "outputs": [
    {
     "name": "stdout",
     "output_type": "stream",
     "text": [
      "File downloaded successfully to ..\\data\\muhammad_martin_Lings.pdf\n",
      "File downloaded successfully to ..\\data\\the-life-of-the-prophet-muhammad-by-leila-and-aisha.pdf\n",
      "File downloaded successfully to ..\\data\\id_the_brief_of_biography_of_the_messenger.pdf\n",
      "File downloaded successfully to ..\\data\\01-sejarah-hidup-nabi-muhammad-saw.pdf\n"
     ]
    }
   ],
   "source": [
    "# List of URLs to download\n",
    "book_urls = [\n",
    "    \"https://www.icorlando.org/pdfs/muhammad_martin_Lings.pdf\",\n",
    "    \"https://muqith.wordpress.com/wp-content/uploads/2010/10/the-life-of-the-prophet-muhammad-by-leila-and-aisha.pdf\",\n",
    "    \"https://d1.islamhouse.com/data/id/ih_books/single/id_the_brief_of_biography_of_the_messenger.pdf\",\n",
    "    \"https://saripedia.wordpress.com/wp-content/uploads/2010/08/01-sejarah-hidup-nabi-muhammad-saw.pdf\",\n",
    "    \"https://d1.islamhouse.com/data/id/ih_books/single/id_the_brief_of_biography_of_the_messenger.pdf\",\n",
    "    \"https://byenah.com/storage/contents/3631/en-concise-biography.pdf\",\n",
    "    \"https://alrashidmosque.ca/wp-content/uploads/2019/05/Muhammad-the-Messenger-of-Allah.pdf\",\n",
    "    \"https://nou.edu.ng/coursewarecontent/ISL172%20Sirah%20The%20Biography%20of%20the%20Prophet%20Muhammad.pdf\"\n",
    "    \n",
    "]\n",
    "\n",
    "# Loop over the URLs and download each file\n",
    "for url in book_urls:\n",
    "    filename = Path(url).name  # Extract the filename from the URL\n",
    "    download_file(url, filename)"
   ]
  },
  {
   "cell_type": "code",
   "execution_count": null,
   "metadata": {},
   "outputs": [],
   "source": []
  }
 ],
 "metadata": {
  "kernelspec": {
   "display_name": "seerahllm_env",
   "language": "python",
   "name": "python3"
  },
  "language_info": {
   "codemirror_mode": {
    "name": "ipython",
    "version": 3
   },
   "file_extension": ".py",
   "mimetype": "text/x-python",
   "name": "python",
   "nbconvert_exporter": "python",
   "pygments_lexer": "ipython3",
   "version": "3.12.7"
  }
 },
 "nbformat": 4,
 "nbformat_minor": 2
}
