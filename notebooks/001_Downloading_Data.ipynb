{
 "cells": [
  {
   "cell_type": "markdown",
   "metadata": {},
   "source": [
    "## Books that we want to collect the data\n",
    "- Muhammad: His Life Based on the Earliest Sources (Martin Lings)\n",
    "- The Life of The Prophet Muhammad Peace and blessings of Allah be upon him(Leila Azzam & Aisha Gouverneur)\n",
    "- Sirah Nabi Muhammad Sallahu Alaihi Wassalam Pengajaran & Pedoman (Dr. Mustafa as-Syibae)\n",
    "- Sejarah Rasulullah (Al-Hafiz Abdul Ghani bin Abdul Wahid Al-Maqdisy)\n",
    "- Sirah Nabi Muhammad (Syaikh Salim bin led al-Hilali || A-Hafizh Ibnu Katsir)\n",
    "- Sejarah Nabi Muhammad saw (Muhammad Husain Haekal)"
   ]
  },
  {
   "cell_type": "code",
   "execution_count": 3,
   "metadata": {},
   "outputs": [],
   "source": [
    "import requests\n",
    "from pathlib import Path\n",
    "\n",
    "def download_file(url: str, filename: str) -> None:\n",
    "    \"\"\"\n",
    "    Download a file from a URL and save it to a specified location.\n",
    "\n",
    "    Parameters:\n",
    "    url (str): The URL of the file to download.\n",
    "    filename (str): The name to save the file as.\n",
    "\n",
    "    Returns:\n",
    "    None\n",
    "    \"\"\"\n",
    "    # Construct the destination path\n",
    "    destination = Path('../data') / filename\n",
    "    destination.parent.mkdir(parents=True, exist_ok=True)  # Ensure the directory exists\n",
    "\n",
    "    response = requests.get(url)\n",
    "    response.raise_for_status()  # Raise an exception if the request was unsuccessful\n",
    "\n",
    "    with open(destination, 'wb') as f:\n",
    "        f.write(response.content)\n",
    "\n",
    "    print(f\"File downloaded successfully to {destination}\")"
   ]
  },
  {
   "cell_type": "code",
   "execution_count": 4,
   "metadata": {},
   "outputs": [
    {
     "name": "stdout",
     "output_type": "stream",
     "text": [
      "File downloaded successfully to ..\\data\\Sirah_Nabi_Hafizh_IbnuKathir.pdf\n"
     ]
    }
   ],
   "source": [
    "sirahNabi_AlHafizhIbnuKathir_url = \"http://103.44.149.34/elib/assets/buku/Sirah_nabi_muhammad.pdf\"\n",
    "download_file(sirahNabi_AlHafizhIbnuKathir_url, 'Sirah_Nabi_Hafizh_IbnuKathir.pdf')\n",
    " "
   ]
  },
  {
   "cell_type": "code",
   "execution_count": null,
   "metadata": {},
   "outputs": [],
   "source": [
    "# List of URLs to download\n",
    "letters_urls = [\n",
    "    \"https://tim.blog/wp-content/uploads/2017/07/taoofseneca_vol1-1.pdf\",\n",
    "    \"https://tim.blog/wp-content/uploads/2017/07/taoofseneca_vol2.pdf\",\n",
    "    \"https://tim.blog/wp-content/uploads/2017/07/taoofseneca_vol3.pdf\",\n",
    "]\n",
    "\n",
    "# Loop over the URLs and download each file\n",
    "for url in letters_urls:\n",
    "    filename = Path(url).name  # Extract the filename from the URL\n",
    "    download_file(url, filename)"
   ]
  }
 ],
 "metadata": {
  "kernelspec": {
   "display_name": "seerahllm_env",
   "language": "python",
   "name": "python3"
  },
  "language_info": {
   "codemirror_mode": {
    "name": "ipython",
    "version": 3
   },
   "file_extension": ".py",
   "mimetype": "text/x-python",
   "name": "python",
   "nbconvert_exporter": "python",
   "pygments_lexer": "ipython3",
   "version": "3.12.7"
  }
 },
 "nbformat": 4,
 "nbformat_minor": 2
}
