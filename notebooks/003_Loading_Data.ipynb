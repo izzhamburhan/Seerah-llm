{
 "cells": [
  {
   "cell_type": "code",
   "execution_count": 37,
   "metadata": {},
   "outputs": [],
   "source": [
    "%%capture\n",
    "!pip install llama-index==0.10.37 html2text"
   ]
  },
  {
   "cell_type": "code",
   "execution_count": 38,
   "metadata": {},
   "outputs": [
    {
     "data": {
      "text/plain": [
       "True"
      ]
     },
     "execution_count": 38,
     "metadata": {},
     "output_type": "execute_result"
    }
   ],
   "source": [
    "import os\n",
    "\n",
    "from getpass import getpass\n",
    "import nest_asyncio\n",
    "\n",
    "from dotenv import load_dotenv\n",
    "\n",
    "nest_asyncio.apply()\n",
    "\n",
    "load_dotenv()"
   ]
  },
  {
   "cell_type": "markdown",
   "metadata": {},
   "source": [
    "Preparing Data for an LLM involves an ingestion pipeline similar to ML Data Cleaning or traditional ETL Processes\n",
    "\n",
    "\n",
    "Ingestion Pipeline Stages\n",
    "- Load Data\n",
    "- Transform Data\n",
    "- Index and Store data"
   ]
  },
  {
   "cell_type": "code",
   "execution_count": 41,
   "metadata": {},
   "outputs": [
    {
     "ename": "ImportError",
     "evalue": "`llama-index-readers-file` package not found",
     "output_type": "error",
     "traceback": [
      "\u001b[1;31m---------------------------------------------------------------------------\u001b[0m",
      "\u001b[1;31mImportError\u001b[0m                               Traceback (most recent call last)",
      "File \u001b[1;32mc:\\Users\\maizz\\Documents\\Python Scripts\\seerah-llm\\seerahllm_env\\Lib\\site-packages\\llama_index\\core\\readers\\file\\base.py:52\u001b[0m, in \u001b[0;36m_try_loading_included_file_formats\u001b[1;34m()\u001b[0m\n\u001b[0;32m     51\u001b[0m \u001b[38;5;28;01mtry\u001b[39;00m:\n\u001b[1;32m---> 52\u001b[0m     \u001b[38;5;28;01mfrom\u001b[39;00m \u001b[38;5;21;01mllama_index\u001b[39;00m\u001b[38;5;21;01m.\u001b[39;00m\u001b[38;5;21;01mreaders\u001b[39;00m\u001b[38;5;21;01m.\u001b[39;00m\u001b[38;5;21;01mfile\u001b[39;00m \u001b[38;5;28;01mimport\u001b[39;00m (\n\u001b[0;32m     53\u001b[0m         DocxReader,\n\u001b[0;32m     54\u001b[0m         EpubReader,\n\u001b[0;32m     55\u001b[0m         HWPReader,\n\u001b[0;32m     56\u001b[0m         ImageReader,\n\u001b[0;32m     57\u001b[0m         IPYNBReader,\n\u001b[0;32m     58\u001b[0m         MarkdownReader,\n\u001b[0;32m     59\u001b[0m         MboxReader,\n\u001b[0;32m     60\u001b[0m         PandasCSVReader,\n\u001b[0;32m     61\u001b[0m         PandasExcelReader,\n\u001b[0;32m     62\u001b[0m         PDFReader,\n\u001b[0;32m     63\u001b[0m         PptxReader,\n\u001b[0;32m     64\u001b[0m         VideoAudioReader,\n\u001b[0;32m     65\u001b[0m     )  \u001b[38;5;66;03m# pants: no-infer-dep\u001b[39;00m\n\u001b[0;32m     66\u001b[0m \u001b[38;5;28;01mexcept\u001b[39;00m \u001b[38;5;167;01mImportError\u001b[39;00m:\n",
      "\u001b[1;31mImportError\u001b[0m: cannot import name 'PandasExcelReader' from 'llama_index.readers.file' (c:\\Users\\maizz\\Documents\\Python Scripts\\seerah-llm\\seerahllm_env\\Lib\\site-packages\\llama_index\\readers\\file\\__init__.py)",
      "\nDuring handling of the above exception, another exception occurred:\n",
      "\u001b[1;31mImportError\u001b[0m                               Traceback (most recent call last)",
      "Cell \u001b[1;32mIn[41], line 3\u001b[0m\n\u001b[0;32m      1\u001b[0m \u001b[38;5;28;01mfrom\u001b[39;00m \u001b[38;5;21;01mllama_index\u001b[39;00m\u001b[38;5;21;01m.\u001b[39;00m\u001b[38;5;21;01mcore\u001b[39;00m \u001b[38;5;28;01mimport\u001b[39;00m SimpleDirectoryReader\n\u001b[1;32m----> 3\u001b[0m documents \u001b[38;5;241m=\u001b[39m \u001b[43mSimpleDirectoryReader\u001b[49m\u001b[43m(\u001b[49m\u001b[38;5;124;43m\"\u001b[39;49m\u001b[38;5;124;43m../data\u001b[39;49m\u001b[38;5;124;43m\"\u001b[39;49m\u001b[43m)\u001b[49m\u001b[38;5;241;43m.\u001b[39;49m\u001b[43mload_data\u001b[49m\u001b[43m(\u001b[49m\u001b[43m)\u001b[49m\n",
      "File \u001b[1;32mc:\\Users\\maizz\\Documents\\Python Scripts\\seerah-llm\\seerahllm_env\\Lib\\site-packages\\llama_index\\core\\readers\\file\\base.py:690\u001b[0m, in \u001b[0;36mSimpleDirectoryReader.load_data\u001b[1;34m(self, show_progress, num_workers, fs)\u001b[0m\n\u001b[0;32m    685\u001b[0m         files_to_process \u001b[38;5;241m=\u001b[39m tqdm(\n\u001b[0;32m    686\u001b[0m             \u001b[38;5;28mself\u001b[39m\u001b[38;5;241m.\u001b[39minput_files, desc\u001b[38;5;241m=\u001b[39m\u001b[38;5;124m\"\u001b[39m\u001b[38;5;124mLoading files\u001b[39m\u001b[38;5;124m\"\u001b[39m, unit\u001b[38;5;241m=\u001b[39m\u001b[38;5;124m\"\u001b[39m\u001b[38;5;124mfile\u001b[39m\u001b[38;5;124m\"\u001b[39m\n\u001b[0;32m    687\u001b[0m         )\n\u001b[0;32m    688\u001b[0m     \u001b[38;5;28;01mfor\u001b[39;00m input_file \u001b[38;5;129;01min\u001b[39;00m files_to_process:\n\u001b[0;32m    689\u001b[0m         documents\u001b[38;5;241m.\u001b[39mextend(\n\u001b[1;32m--> 690\u001b[0m             \u001b[43mSimpleDirectoryReader\u001b[49m\u001b[38;5;241;43m.\u001b[39;49m\u001b[43mload_file\u001b[49m\u001b[43m(\u001b[49m\n\u001b[0;32m    691\u001b[0m \u001b[43m                \u001b[49m\u001b[43minput_file\u001b[49m\u001b[38;5;241;43m=\u001b[39;49m\u001b[43minput_file\u001b[49m\u001b[43m,\u001b[49m\n\u001b[0;32m    692\u001b[0m \u001b[43m                \u001b[49m\u001b[43mfile_metadata\u001b[49m\u001b[38;5;241;43m=\u001b[39;49m\u001b[38;5;28;43mself\u001b[39;49m\u001b[38;5;241;43m.\u001b[39;49m\u001b[43mfile_metadata\u001b[49m\u001b[43m,\u001b[49m\n\u001b[0;32m    693\u001b[0m \u001b[43m                \u001b[49m\u001b[43mfile_extractor\u001b[49m\u001b[38;5;241;43m=\u001b[39;49m\u001b[38;5;28;43mself\u001b[39;49m\u001b[38;5;241;43m.\u001b[39;49m\u001b[43mfile_extractor\u001b[49m\u001b[43m,\u001b[49m\n\u001b[0;32m    694\u001b[0m \u001b[43m                \u001b[49m\u001b[43mfilename_as_id\u001b[49m\u001b[38;5;241;43m=\u001b[39;49m\u001b[38;5;28;43mself\u001b[39;49m\u001b[38;5;241;43m.\u001b[39;49m\u001b[43mfilename_as_id\u001b[49m\u001b[43m,\u001b[49m\n\u001b[0;32m    695\u001b[0m \u001b[43m                \u001b[49m\u001b[43mencoding\u001b[49m\u001b[38;5;241;43m=\u001b[39;49m\u001b[38;5;28;43mself\u001b[39;49m\u001b[38;5;241;43m.\u001b[39;49m\u001b[43mencoding\u001b[49m\u001b[43m,\u001b[49m\n\u001b[0;32m    696\u001b[0m \u001b[43m                \u001b[49m\u001b[43merrors\u001b[49m\u001b[38;5;241;43m=\u001b[39;49m\u001b[38;5;28;43mself\u001b[39;49m\u001b[38;5;241;43m.\u001b[39;49m\u001b[43merrors\u001b[49m\u001b[43m,\u001b[49m\n\u001b[0;32m    697\u001b[0m \u001b[43m                \u001b[49m\u001b[43mraise_on_error\u001b[49m\u001b[38;5;241;43m=\u001b[39;49m\u001b[38;5;28;43mself\u001b[39;49m\u001b[38;5;241;43m.\u001b[39;49m\u001b[43mraise_on_error\u001b[49m\u001b[43m,\u001b[49m\n\u001b[0;32m    698\u001b[0m \u001b[43m                \u001b[49m\u001b[43mfs\u001b[49m\u001b[38;5;241;43m=\u001b[39;49m\u001b[43mfs\u001b[49m\u001b[43m,\u001b[49m\n\u001b[0;32m    699\u001b[0m \u001b[43m            \u001b[49m\u001b[43m)\u001b[49m\n\u001b[0;32m    700\u001b[0m         )\n\u001b[0;32m    702\u001b[0m \u001b[38;5;28;01mreturn\u001b[39;00m \u001b[38;5;28mself\u001b[39m\u001b[38;5;241m.\u001b[39m_exclude_metadata(documents)\n",
      "File \u001b[1;32mc:\\Users\\maizz\\Documents\\Python Scripts\\seerah-llm\\seerahllm_env\\Lib\\site-packages\\llama_index\\core\\readers\\file\\base.py:518\u001b[0m, in \u001b[0;36mSimpleDirectoryReader.load_file\u001b[1;34m(input_file, file_metadata, file_extractor, filename_as_id, encoding, errors, raise_on_error, fs)\u001b[0m\n\u001b[0;32m    485\u001b[0m \u001b[38;5;250m\u001b[39m\u001b[38;5;124;03m\"\"\"\u001b[39;00m\n\u001b[0;32m    486\u001b[0m \u001b[38;5;124;03mStatic method for loading file.\u001b[39;00m\n\u001b[0;32m    487\u001b[0m \n\u001b[1;32m   (...)\u001b[0m\n\u001b[0;32m    515\u001b[0m \u001b[38;5;124;03m    List[Document]: loaded documents\u001b[39;00m\n\u001b[0;32m    516\u001b[0m \u001b[38;5;124;03m\"\"\"\u001b[39;00m\n\u001b[0;32m    517\u001b[0m \u001b[38;5;66;03m# TODO: make this less redundant\u001b[39;00m\n\u001b[1;32m--> 518\u001b[0m default_file_reader_cls \u001b[38;5;241m=\u001b[39m \u001b[43mSimpleDirectoryReader\u001b[49m\u001b[38;5;241;43m.\u001b[39;49m\u001b[43msupported_suffix_fn\u001b[49m\u001b[43m(\u001b[49m\u001b[43m)\u001b[49m\n\u001b[0;32m    519\u001b[0m default_file_reader_suffix \u001b[38;5;241m=\u001b[39m \u001b[38;5;28mlist\u001b[39m(default_file_reader_cls\u001b[38;5;241m.\u001b[39mkeys())\n\u001b[0;32m    520\u001b[0m metadata: Optional[\u001b[38;5;28mdict\u001b[39m] \u001b[38;5;241m=\u001b[39m \u001b[38;5;28;01mNone\u001b[39;00m\n",
      "File \u001b[1;32mc:\\Users\\maizz\\Documents\\Python Scripts\\seerah-llm\\seerahllm_env\\Lib\\site-packages\\llama_index\\core\\readers\\file\\base.py:67\u001b[0m, in \u001b[0;36m_try_loading_included_file_formats\u001b[1;34m()\u001b[0m\n\u001b[0;32m     52\u001b[0m     \u001b[38;5;28;01mfrom\u001b[39;00m \u001b[38;5;21;01mllama_index\u001b[39;00m\u001b[38;5;21;01m.\u001b[39;00m\u001b[38;5;21;01mreaders\u001b[39;00m\u001b[38;5;21;01m.\u001b[39;00m\u001b[38;5;21;01mfile\u001b[39;00m \u001b[38;5;28;01mimport\u001b[39;00m (\n\u001b[0;32m     53\u001b[0m         DocxReader,\n\u001b[0;32m     54\u001b[0m         EpubReader,\n\u001b[1;32m   (...)\u001b[0m\n\u001b[0;32m     64\u001b[0m         VideoAudioReader,\n\u001b[0;32m     65\u001b[0m     )  \u001b[38;5;66;03m# pants: no-infer-dep\u001b[39;00m\n\u001b[0;32m     66\u001b[0m \u001b[38;5;28;01mexcept\u001b[39;00m \u001b[38;5;167;01mImportError\u001b[39;00m:\n\u001b[1;32m---> 67\u001b[0m     \u001b[38;5;28;01mraise\u001b[39;00m \u001b[38;5;167;01mImportError\u001b[39;00m(\u001b[38;5;124m\"\u001b[39m\u001b[38;5;124m`llama-index-readers-file` package not found\u001b[39m\u001b[38;5;124m\"\u001b[39m)\n\u001b[0;32m     69\u001b[0m default_file_reader_cls: Dict[\u001b[38;5;28mstr\u001b[39m, Type[BaseReader]] \u001b[38;5;241m=\u001b[39m {\n\u001b[0;32m     70\u001b[0m     \u001b[38;5;124m\"\u001b[39m\u001b[38;5;124m.hwp\u001b[39m\u001b[38;5;124m\"\u001b[39m: HWPReader,\n\u001b[0;32m     71\u001b[0m     \u001b[38;5;124m\"\u001b[39m\u001b[38;5;124m.pdf\u001b[39m\u001b[38;5;124m\"\u001b[39m: PDFReader,\n\u001b[1;32m   (...)\u001b[0m\n\u001b[0;32m     89\u001b[0m     \u001b[38;5;124m\"\u001b[39m\u001b[38;5;124m.xlsx\u001b[39m\u001b[38;5;124m\"\u001b[39m: PandasExcelReader,\n\u001b[0;32m     90\u001b[0m }\n\u001b[0;32m     91\u001b[0m \u001b[38;5;28;01mreturn\u001b[39;00m default_file_reader_cls\n",
      "\u001b[1;31mImportError\u001b[0m: `llama-index-readers-file` package not found"
     ]
    }
   ],
   "source": [
    "from llama_index.core import SimpleDirectoryReader\n",
    "\n",
    "documents = SimpleDirectoryReader(\"../data\").load_data()"
   ]
  },
  {
   "cell_type": "code",
   "execution_count": 40,
   "metadata": {},
   "outputs": [
    {
     "ename": "TypeError",
     "evalue": "object of type 'SimpleDirectoryReader' has no len()",
     "output_type": "error",
     "traceback": [
      "\u001b[1;31m---------------------------------------------------------------------------\u001b[0m",
      "\u001b[1;31mTypeError\u001b[0m                                 Traceback (most recent call last)",
      "Cell \u001b[1;32mIn[40], line 1\u001b[0m\n\u001b[1;32m----> 1\u001b[0m \u001b[38;5;28;43mlen\u001b[39;49m\u001b[43m(\u001b[49m\u001b[43mdocuments\u001b[49m\u001b[43m)\u001b[49m\n",
      "\u001b[1;31mTypeError\u001b[0m: object of type 'SimpleDirectoryReader' has no len()"
     ]
    }
   ],
   "source": [
    "len(documents)"
   ]
  },
  {
   "cell_type": "code",
   "execution_count": 36,
   "metadata": {},
   "outputs": [
    {
     "ename": "TypeError",
     "evalue": "'SimpleDirectoryReader' object is not iterable",
     "output_type": "error",
     "traceback": [
      "\u001b[1;31m---------------------------------------------------------------------------\u001b[0m",
      "\u001b[1;31mTypeError\u001b[0m                                 Traceback (most recent call last)",
      "Cell \u001b[1;32mIn[36], line 9\u001b[0m\n\u001b[0;32m      1\u001b[0m \u001b[38;5;28;01mfrom\u001b[39;00m \u001b[38;5;21;01mllama_index\u001b[39;00m\u001b[38;5;21;01m.\u001b[39;00m\u001b[38;5;21;01mcore\u001b[39;00m\u001b[38;5;21;01m.\u001b[39;00m\u001b[38;5;21;01mnode_parser\u001b[39;00m \u001b[38;5;28;01mimport\u001b[39;00m SentenceSplitter\n\u001b[0;32m      3\u001b[0m parser \u001b[38;5;241m=\u001b[39m SentenceSplitter(\n\u001b[0;32m      4\u001b[0m     chunk_size\u001b[38;5;241m=\u001b[39m\u001b[38;5;241m128\u001b[39m, \u001b[38;5;66;03m# in tokens\u001b[39;00m\n\u001b[0;32m      5\u001b[0m     chunk_overlap\u001b[38;5;241m=\u001b[39m\u001b[38;5;241m16\u001b[39m, \u001b[38;5;66;03m#in tokens\u001b[39;00m\n\u001b[0;32m      6\u001b[0m     paragraph_separator\u001b[38;5;241m=\u001b[39m\u001b[38;5;124m\"\u001b[39m\u001b[38;5;130;01m\\n\u001b[39;00m\u001b[38;5;130;01m\\n\u001b[39;00m\u001b[38;5;124m\"\u001b[39m\n\u001b[0;32m      7\u001b[0m )\n\u001b[1;32m----> 9\u001b[0m nodes \u001b[38;5;241m=\u001b[39m \u001b[43mparser\u001b[49m\u001b[38;5;241;43m.\u001b[39;49m\u001b[43mget_nodes_from_documents\u001b[49m\u001b[43m(\u001b[49m\u001b[43mdocuments\u001b[49m\u001b[43m,\u001b[49m\u001b[43m \u001b[49m\u001b[43mshow_progress\u001b[49m\u001b[38;5;241;43m=\u001b[39;49m\u001b[38;5;28;43;01mTrue\u001b[39;49;00m\u001b[43m)\u001b[49m\n",
      "File \u001b[1;32mc:\\Users\\maizz\\Documents\\Python Scripts\\seerah-llm\\seerahllm_env\\Lib\\site-packages\\llama_index\\core\\node_parser\\interface.py:141\u001b[0m, in \u001b[0;36mget_nodes_from_documents\u001b[1;34m(self, documents, show_progress, **kwargs)\u001b[0m\n\u001b[0;32m    132\u001b[0m             node\u001b[38;5;241m.\u001b[39mrelationships[NodeRelationship\u001b[38;5;241m.\u001b[39mPREVIOUS] \u001b[38;5;241m=\u001b[39m nodes[\n\u001b[0;32m    133\u001b[0m                 i \u001b[38;5;241m-\u001b[39m \u001b[38;5;241m1\u001b[39m\n\u001b[0;32m    134\u001b[0m             ]\u001b[38;5;241m.\u001b[39mas_related_node_info()\n\u001b[0;32m    135\u001b[0m         \u001b[38;5;28;01mif\u001b[39;00m (\n\u001b[0;32m    136\u001b[0m             i \u001b[38;5;241m<\u001b[39m \u001b[38;5;28mlen\u001b[39m(nodes) \u001b[38;5;241m-\u001b[39m \u001b[38;5;241m1\u001b[39m\n\u001b[0;32m    137\u001b[0m             \u001b[38;5;129;01mand\u001b[39;00m node\u001b[38;5;241m.\u001b[39msource_node\n\u001b[0;32m    138\u001b[0m             \u001b[38;5;129;01mand\u001b[39;00m nodes[i \u001b[38;5;241m+\u001b[39m \u001b[38;5;241m1\u001b[39m]\u001b[38;5;241m.\u001b[39msource_node\n\u001b[0;32m    139\u001b[0m             \u001b[38;5;129;01mand\u001b[39;00m nodes[i \u001b[38;5;241m+\u001b[39m \u001b[38;5;241m1\u001b[39m]\u001b[38;5;241m.\u001b[39msource_node\u001b[38;5;241m.\u001b[39mnode_id \u001b[38;5;241m==\u001b[39m node\u001b[38;5;241m.\u001b[39msource_node\u001b[38;5;241m.\u001b[39mnode_id  \u001b[38;5;66;03m# type: ignore\u001b[39;00m\n\u001b[0;32m    140\u001b[0m         ):\n\u001b[1;32m--> 141\u001b[0m             node\u001b[38;5;241m.\u001b[39mrelationships[NodeRelationship\u001b[38;5;241m.\u001b[39mNEXT] \u001b[38;5;241m=\u001b[39m nodes[\n\u001b[0;32m    142\u001b[0m                 i \u001b[38;5;241m+\u001b[39m \u001b[38;5;241m1\u001b[39m\n\u001b[0;32m    143\u001b[0m             ]\u001b[38;5;241m.\u001b[39mas_related_node_info()\n\u001b[0;32m    145\u001b[0m \u001b[38;5;28;01mreturn\u001b[39;00m nodes\n",
      "\u001b[1;31mTypeError\u001b[0m: 'SimpleDirectoryReader' object is not iterable"
     ]
    }
   ],
   "source": [
    "from llama_index.core.node_parser import SentenceSplitter\n",
    "\n",
    "parser = SentenceSplitter(\n",
    "    chunk_size=128, # in tokens\n",
    "    chunk_overlap=16, #in tokens\n",
    "    paragraph_separator=\"\\n\\n\"\n",
    ")\n",
    "\n",
    "nodes = parser.get_nodes_from_documents(documents, show_progress=True)"
   ]
  }
 ],
 "metadata": {
  "kernelspec": {
   "display_name": "seerahllm_env",
   "language": "python",
   "name": "python3"
  },
  "language_info": {
   "codemirror_mode": {
    "name": "ipython",
    "version": 3
   },
   "file_extension": ".py",
   "mimetype": "text/x-python",
   "name": "python",
   "nbconvert_exporter": "python",
   "pygments_lexer": "ipython3",
   "version": "3.12.7"
  }
 },
 "nbformat": 4,
 "nbformat_minor": 2
}
