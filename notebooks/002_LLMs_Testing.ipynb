{
 "cells": [
  {
   "cell_type": "code",
   "execution_count": 1,
   "metadata": {},
   "outputs": [
    {
     "data": {
      "text/plain": [
       "True"
      ]
     },
     "execution_count": 1,
     "metadata": {},
     "output_type": "execute_result"
    }
   ],
   "source": [
    "import os\n",
    "\n",
    "from getpass import getpass\n",
    "import nest_asyncio\n",
    "\n",
    "from dotenv import load_dotenv\n",
    "\n",
    "nest_asyncio.apply()\n",
    "\n",
    "load_dotenv()"
   ]
  },
  {
   "cell_type": "code",
   "execution_count": 3,
   "metadata": {},
   "outputs": [],
   "source": [
    "CO_API_KEY = os.environ['CO_API_KEY'] \n",
    "# CO_API_KEY = os.environ['CO_API_KEY'] or getpass(\"Enter your Cohere API key: \")"
   ]
  },
  {
   "cell_type": "code",
   "execution_count": 6,
   "metadata": {},
   "outputs": [
    {
     "name": "stdout",
     "output_type": "stream",
     "text": [
      "Nabi Muhammad, yang juga dikenal sebagai Nabi Muhammad, adalah pendiri agama Islam dan dianggap oleh umat Islam sebagai nabi terakhir dan utusan Tuhan. Nabi Muhammad lahir sekitar tahun 570 Masehi di Mekah, yang sekarang menjadi Arab Saudi.\n",
      "\n",
      "Selama hidupnya, Nabi Muhammad dikenal sebagai seorang pedagang yang jujur dan bijaksana. Pada usia 40 tahun, ia mulai menerima wahyu dari Tuhan melalui Malaikat Jibril. Wahyu-wahyu ini, yang kemudian dikumpulkan menjadi Al-Qur'an, membentuk dasar ajaran Islam.\n",
      "\n",
      "Nabi Muhammad menyerukan penyembahan Tuhan yang tunggal, yang dikenal dalam bahasa Arab sebagai \"Allah\", dan mengajarkan bahwa Tuhan adalah Maha Pengasih dan Maha Penyayang. Ia menyerukan moralitas, keadilan, dan belas kasih dalam masyarakat. Ia juga menekankan pentingnya doa, puasa, dan ibadah haji ke Mekah.\n",
      "\n",
      "Nabi Muhammad berhasil menyatukan berbagai suku di Semenanjung Arab di bawah panji Islam, dan ia memimpin komunitas Muslim di Madinah setelah hijrah dari Mekah pada tahun 622 Masehi. Ia meninggal pada tahun 632 Masehi, setelah berhasil menyebarkan Islam di seluruh Semenanjung Arab.\n",
      "\n",
      "Umat Islam sangat menghormati Nabi Muhammad dan melihatnya sebagai teladan dalam kehidupan. Mereka mengikuti ajaran dan sunnahnya (cara hidupnya) dalam upaya untuk meniru kebaikan dan kebijaksanaannya.\n"
     ]
    }
   ],
   "source": [
    "from llama_index.llms.cohere import Cohere\n",
    "\n",
    "llm = Cohere(model=\"command-r-plus\", temperature=0.2)\n",
    "\n",
    "response = llm.complete(\"Nabi Muhammad adalah\")\n",
    "\n",
    "print(response)"
   ]
  },
  {
   "cell_type": "code",
   "execution_count": 7,
   "metadata": {},
   "outputs": [
    {
     "name": "stdout",
     "output_type": "stream",
     "text": [
      "Di Madinah kota suci,\n",
      "Tempat Rasulullah bersemadi,\n",
      "Di sana cahaya ilmu bersinar,\n",
      "Menjadi cahaya bagi dunia.\n",
      "\n",
      "Di Madinah kota yang mulia,\n",
      "Tempat para sahabat berkumpul,\n",
      "Di sana cinta dan kasih sayang tumbuh,\n",
      "Menjadi teladan bagi umat manusia.\n",
      "\n",
      "Di Madinah kota yang indah,\n",
      "Tempat para malaikat berdoa,\n",
      "Di sana kedamaian dan ketenangan terasa,\n",
      "Menjadi surga di bumi bagi para hamba.\n",
      "\n",
      "Di Madinah kota yang terberkati,\n",
      "Tempat wahyu turun bergemuruh,\n",
      "Di sana Islam tumbuh dan berkembang,\n",
      "Menjadi agama yang membawa cahaya.\n",
      "\n",
      "Ya Allah, limpahkanlah rahmat dan berkat,\n",
      "Kepada Madinah kota yang suci,\n",
      "Lindungilah kota ini dari segala bahaya,\n",
      "Dan jadikanlah kota ini selalu damai dan tenteram.\n",
      "\n",
      "Ya Madinah, kota yang tercinta,\n",
      "Tempat hati ini selalu rindu,\n",
      "Di sana kenangan indah terukir,\n",
      "Menjadi saksi cinta kita kepada Rasulullah.\n",
      "\n",
      "Ya Allah, izinkanlah kami kembali,\n",
      "Kepada Madinah kota yang suci,\n",
      "Untuk mengunjungi tempat Rasul bersemadi,\n",
      "Dan merasakan kembali ketenangan dan kedamaian.\n"
     ]
    }
   ],
   "source": [
    "from llama_index.core import PromptTemplate\n",
    "\n",
    "template = \"\"\"\n",
    "    Tulis syair {thing} dalam gaya {style}.\n",
    "\"\"\"\n",
    "\n",
    "prompt = template.format(thing=\"Madinah Kota Suci\", style=\"Tradisional Melayu\")\n",
    "\n",
    "response = llm.complete(prompt)\n",
    "print(response)\n"
   ]
  },
  {
   "cell_type": "code",
   "execution_count": 10,
   "metadata": {},
   "outputs": [
    {
     "name": "stdout",
     "output_type": "stream",
     "text": [
      "assistant: Selamat sejahtera! Saya baik-baik sahaja. Bagaimana dengan anda?\n"
     ]
    }
   ],
   "source": [
    "from llama_index.core.llms import ChatMessage\n",
    "from llama_index.llms.cohere import Cohere\n",
    "\n",
    "llm = Cohere(model=\"command-r-plus\")\n",
    "\n",
    "messages = [\n",
    "    ChatMessage(content=\"Awak adalah Bot yang pakar sirah\", sender=\"system\"),\n",
    "    ChatMessage(content=\"Hi, apa khabar?\", sender=\"user\")\n",
    "]\n",
    "\n",
    "response = llm.chat(messages)\n",
    "print(response)"
   ]
  },
  {
   "cell_type": "code",
   "execution_count": 11,
   "metadata": {},
   "outputs": [
    {
     "name": "stdout",
     "output_type": "stream",
     "text": [
      "Terdapat 313 sahabat Nabi Muhammad SAW yang ikut serta dalam Pertempuran Badar, yang terjadi pada tahun 624 Masehi. Pertempuran ini merupakan salah satu pertempuran penting dalam sejarah Islam, dan dimenangkan oleh pasukan Muslim.\n"
     ]
    }
   ],
   "source": [
    "from llama_index.core.llms import ChatMessage, MessageRole\n",
    "from llama_index.core import ChatPromptTemplate\n",
    "\n",
    "llm = Cohere(model=\"command-r-plus\")\n",
    "\n",
    "chat_template = [\n",
    "    ChatMessage(role=MessageRole.SYSTEM,content=\"You always answers questions with as much detail as possible.\"),\n",
    "    ChatMessage(role=MessageRole.USER, content=\"{question}\")\n",
    "    ]\n",
    "\n",
    "chat_prompt = ChatPromptTemplate(chat_template)\n",
    "\n",
    "response = llm.complete(chat_prompt.format(question=\"Berapakah jumlah Ahli Badar?\"))\n",
    "\n",
    "print(response)"
   ]
  }
 ],
 "metadata": {
  "kernelspec": {
   "display_name": "seerahllm_env",
   "language": "python",
   "name": "python3"
  },
  "language_info": {
   "codemirror_mode": {
    "name": "ipython",
    "version": 3
   },
   "file_extension": ".py",
   "mimetype": "text/x-python",
   "name": "python",
   "nbconvert_exporter": "python",
   "pygments_lexer": "ipython3",
   "version": "3.12.7"
  }
 },
 "nbformat": 4,
 "nbformat_minor": 2
}
